{
 "cells": [
  {
   "cell_type": "markdown",
   "id": "6a8b76ed",
   "metadata": {},
   "source": [
    "## Plotly Maps"
   ]
  },
  {
   "cell_type": "code",
   "execution_count": 9,
   "id": "12049d29",
   "metadata": {},
   "outputs": [],
   "source": [
    "import pandas as pd\n",
    "\n",
    "%config Completer.use_jedi = False\n",
    "pd.options.mode.chained_assignment = None  # default='warn'"
   ]
  },
  {
   "cell_type": "code",
   "execution_count": 10,
   "id": "5a8b4fe6",
   "metadata": {},
   "outputs": [],
   "source": [
    "import geopandas as gpd\n",
    "import matplotlib.pyplot as plt\n",
    "import geopy as gp\n",
    "import numpy as np\n",
    "\n",
    "data_location = 'properati_final_maps.csv'\n",
    "\n",
    "data = pd.read_csv(data_location, encoding ='latin1')\n"
   ]
  },
  {
   "cell_type": "code",
   "execution_count": 11,
   "id": "b0d667ae",
   "metadata": {},
   "outputs": [],
   "source": [
    "import plotly.express as px\n",
    "import plotly.io as pio\n",
    "pio.renderers.default = 'browser'"
   ]
  },
  {
   "cell_type": "code",
   "execution_count": 12,
   "id": "c742353c",
   "metadata": {
    "scrolled": true
   },
   "outputs": [],
   "source": [
    "# Convertimos el DataFrame en un GeoDataFrame agregando la columna geometry con las coordenadas de las propiedades.\n",
    "geo_dataset = gpd.GeoDataFrame(data,geometry=gpd.points_from_xy(data.lon, data.lat))"
   ]
  },
  {
   "cell_type": "code",
   "execution_count": 13,
   "id": "e0d6674e",
   "metadata": {},
   "outputs": [],
   "source": [
    "#Genero el dataset de caba\n",
    "geo_dataset_caba = geo_dataset[geo_dataset[\"state_name\"] == \"Capital Federal\"]"
   ]
  },
  {
   "cell_type": "code",
   "execution_count": 14,
   "id": "1f74f7e2",
   "metadata": {},
   "outputs": [],
   "source": [
    "# Reemplazo algunos barrios por los barrios oficiales de CABA definidos por el Gobierno de la Ciudad\n",
    "\n",
    "geo_dataset_caba['place_name'] = geo_dataset_caba['place_name'].replace(['LAS CAÑITAS'],'PALERMO')\n",
    "geo_dataset_caba['place_name'] = geo_dataset_caba['place_name'].replace(['BARRIO NORTE'],'RECOLETA')\n",
    "geo_dataset_caba['place_name'] = geo_dataset_caba['place_name'].replace(['CONGRESO'],'BALVANERA')\n",
    "geo_dataset_caba['place_name'] = geo_dataset_caba['place_name'].replace(['CONSTITUCIÓN'],'CONSTITUCION')\n",
    "geo_dataset_caba['place_name'] = geo_dataset_caba['place_name'].replace(['POMPEYA'],'NUEVA POMPEYA')\n",
    "geo_dataset_caba['place_name'] = geo_dataset_caba['place_name'].replace(['AGRONOMÍA'],'AGRONOMIA')\n",
    "geo_dataset_caba['place_name'] = geo_dataset_caba['place_name'].replace(['VILLA PUEYRREDÓN'],'VILLA PUEYRREDON')\n",
    "geo_dataset_caba['place_name'] = geo_dataset_caba['place_name'].replace(['PARQUE CENTENARIO'],'CABALLITO')\n",
    "geo_dataset_caba['place_name'] = geo_dataset_caba['place_name'].replace(['ABASTO'],'BALVANERA')\n",
    "geo_dataset_caba['place_name'] = geo_dataset_caba['place_name'].replace(['SAN NICOLÁS'],'SAN NICOLAS')\n",
    "geo_dataset_caba['place_name'] = geo_dataset_caba['place_name'].replace(['CENTRO / MICROCENTRO'],'SAN NICOLAS')\n",
    "geo_dataset_caba['place_name'] = geo_dataset_caba['place_name'].replace(['ONCE'],'BALVANERA')\n",
    "geo_dataset_caba['place_name'] = geo_dataset_caba['place_name'].replace(['TRIBUNALES'],'SAN NICOLAS')\n",
    "geo_dataset_caba['place_name'] = geo_dataset_caba['place_name'].replace(['VILLA GENERAL MITRE'],\"VILLA GRAL. MITRE\")"
   ]
  },
  {
   "cell_type": "code",
   "execution_count": 15,
   "id": "e4a00ed4",
   "metadata": {},
   "outputs": [],
   "source": [
    "#Importo el archivo JSON de CABA\n",
    "\n",
    "from urllib.request import urlopen\n",
    "import json\n",
    "with urlopen('https://cdn.buenosaires.gob.ar/datosabiertos/datasets/barrios/barrios.geojson') as response:\n",
    "    counties = json.load(response)"
   ]
  },
  {
   "cell_type": "code",
   "execution_count": 16,
   "id": "30e4c1f7",
   "metadata": {},
   "outputs": [],
   "source": [
    "barrio_map = {}\n",
    "\n",
    "for feature in counties['features']:\n",
    "    feature['id'] = feature['properties']['BARRIO']\n",
    "    barrio_map[feature['properties']['BARRIO']] = feature['id']"
   ]
  },
  {
   "cell_type": "code",
   "execution_count": 17,
   "id": "102906d9",
   "metadata": {},
   "outputs": [],
   "source": [
    "geo_dataset_caba['id'] = geo_dataset_caba['place_name'].apply(lambda x: barrio_map[x])"
   ]
  },
  {
   "cell_type": "code",
   "execution_count": 18,
   "id": "3d4c7928",
   "metadata": {},
   "outputs": [],
   "source": [
    "# Genero la figura para preciom2\n",
    "\n",
    "fig = px.choropleth(geo_dataset_caba, locations = 'id', geojson = counties, color = 'price_m2_calc_supTotal', scope='south america' )\n",
    "fig.update_geos(fitbounds = 'locations', visible = False)\n",
    "fig.show()"
   ]
  },
  {
   "cell_type": "code",
   "execution_count": 19,
   "id": "fdbbc334",
   "metadata": {},
   "outputs": [],
   "source": [
    "fig.write_html(\"plotly.html\")"
   ]
  },
  {
   "cell_type": "code",
   "execution_count": 20,
   "id": "6e50477c",
   "metadata": {},
   "outputs": [],
   "source": [
    "# Genero la figura para precio total\n",
    "\n",
    "fig = px.choropleth(geo_dataset_caba, locations = 'id', geojson = counties, color = 'price_aprox_usd', scope='south america' )\n",
    "fig.update_geos(fitbounds = 'locations', visible = False)\n",
    "fig.show()\n",
    "\n",
    "\n",
    "\t"
   ]
  },
  {
   "cell_type": "code",
   "execution_count": null,
   "id": "afd6ee8f",
   "metadata": {},
   "outputs": [],
   "source": []
  },
  {
   "cell_type": "code",
   "execution_count": null,
   "id": "2b3c158f",
   "metadata": {},
   "outputs": [],
   "source": []
  },
  {
   "cell_type": "code",
   "execution_count": null,
   "id": "be847885",
   "metadata": {},
   "outputs": [],
   "source": []
  }
 ],
 "metadata": {
  "kernelspec": {
   "display_name": "Python 3",
   "language": "python",
   "name": "python3"
  },
  "language_info": {
   "codemirror_mode": {
    "name": "ipython",
    "version": 3
   },
   "file_extension": ".py",
   "mimetype": "text/x-python",
   "name": "python",
   "nbconvert_exporter": "python",
   "pygments_lexer": "ipython3",
   "version": "3.7.10"
  }
 },
 "nbformat": 4,
 "nbformat_minor": 5
}
