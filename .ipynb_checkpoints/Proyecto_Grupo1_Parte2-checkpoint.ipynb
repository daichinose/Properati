{
 "cells": [
  {
   "cell_type": "markdown",
   "id": "6e719929",
   "metadata": {},
   "source": [
    "<img src='properati2.png' align=\"center\" alt=\"drawing\" width=\"800\"/>"
   ]
  },
  {
   "cell_type": "markdown",
   "id": "add1a2b8",
   "metadata": {},
   "source": [
    "### Grupo 1: *Natali Ferron, Daniela Ichinose, Andres Legorburu, Federico Idoeta, Gonzalo Garcia*\n",
    "---\n",
    "### Flujo de trabajo \n",
    "<a name=\"top\"></a>\n",
    "* [1. Analisis exploratorio de los datos](#inicial)\n",
    "\n",
    "* [2. Preparación de los datos para el entrenamiento](#preparacion)\n",
    "* [3. Regresion Lineal](#rl)\n",
    ">[3a. Regresión Lineal con Stats Model](#rlA)</br>\n",
    ">[3b. Regresión Lineal con regularización Lasso](#rlB)</br>\n",
    ">[3c. Regresión Lineal con regularización Ridge](#rlC)</br>\n",
    ">[3d. Regresion Lineal con Elastic Net](#rlD)</br>\n",
    ">[3f. Comparación de los resultados entre los distintos modelos](#rlD)</br>\n",
    "\n",
    "* [4. Calculo de portafolio y rentabilidad](#portafolio)\n",
    ">[4a. Calculo de portafolio](#portafolioA)</br>\n",
    ">[4a. Calculo de rentabilidad](#portafolioB)</br>\n",
    "---"
   ]
  },
  {
   "cell_type": "code",
   "execution_count": null,
   "id": "02405ece",
   "metadata": {},
   "outputs": [],
   "source": [
    "from matplotlib import pyplot as plt\n",
    "import seaborn as sns\n",
    "import numpy as np\n",
    "import pandas as pd\n",
    "from sklearn import metrics\n",
    "from sklearn.model_selection import cross_val_score, train_test_split, KFold\n",
    "from sklearn.preprocessing import StandardScaler\n",
    "from sklearn.preprocessing import OneHotEncoder\n",
    "from sklearn.preprocessing import MinMaxScaler\n",
    "from sklearn import linear_model\n",
    "from sklearn import metrics\n",
    "import statsmodels.api as sm\n",
    "from statsmodels.tools import eval_measures\n",
    "\n",
    "%config Completer.use_jedi = False"
   ]
  },
  {
   "cell_type": "code",
   "execution_count": null,
   "id": "c53d1538",
   "metadata": {},
   "outputs": [],
   "source": [
    "data_CABA = pd.read_csv('dataCABA.csv', sep=\",\", index_col=0)"
   ]
  },
  {
   "cell_type": "code",
   "execution_count": null,
   "id": "56c0c743",
   "metadata": {},
   "outputs": [],
   "source": [
    "data_CABA"
   ]
  },
  {
   "cell_type": "markdown",
   "id": "f8783031",
   "metadata": {},
   "source": [
    "---\n",
    "<a name=\"inicial\"></a>\n",
    "## 1. Analisis exploratorio de los datos"
   ]
  },
  {
   "cell_type": "markdown",
   "id": "ad0fd3bc",
   "metadata": {},
   "source": [
    "#### Descripción del dataset"
   ]
  },
  {
   "cell_type": "code",
   "execution_count": null,
   "id": "5a34d092",
   "metadata": {},
   "outputs": [],
   "source": [
    "print(f'El dataset esta formado por {data_CABA.shape[1]} columnas:')\n",
    "\n",
    "print(f'    Cuatro numericas')\n",
    "print(data_CABA.loc[:,('price_aprox_usd','price_m2','surface','rooms')].agg(['min','max','median']).T)\n",
    "\n",
    "print(f'    Una columna categorica property_type con {len(data_CABA.property_type.unique())} niveles:')\n",
    "print('      ',data_CABA.property_type.unique())\n",
    "\n",
    "print(f'    Otra categorica place_name con {len(data_CABA.place_name.unique())} niveles, correspondiente a los zonas de CABA')\n",
    "\n",
    "print('    Y 6 categoricas como dummies: cochera,contrafrente,amenities, esp_exterior,mas_1banio, estrenar')"
   ]
  },
  {
   "cell_type": "markdown",
   "id": "64e1dfc1",
   "metadata": {},
   "source": [
    "#### Columnas (12)\n",
    ">##### property_type     categorica            4 categorias (PH, apartment, house, store)\n",
    ">##### place_name        categorica            55 zonas/barrios de CABA\n",
    ">##### price_aprox_usd   numerica continua     precio en dolares  (22377.38000 - 3.000000e+06)\n",
    ">##### rooms             numerica ordinal      habitaciones  (1-10)\n",
    ">##### surface           numerica continua     superficie en m2 (18.00000 - 4.800000e+03)\n",
    ">##### price_m2          numerica continua     precio por m2 (24.20719 - 9.215686e+03)\n",
    ">##### contrafrente      dummie                si la propiedad es contrafrente\n",
    ">##### cochera           dummie                si tiene cochera\n",
    ">##### amenities         dummie                pileta, seguridad, sum..\n",
    ">##### esp_exterior      dummie                patio, terraza, quincho, parrilla, paque, jardin\n",
    ">##### mas_1banio        dummie                si tiene mas de un baño\n",
    ">##### estrenar          dummie                si es una propiedad a estrenar"
   ]
  },
  {
   "cell_type": "markdown",
   "id": "8cc37b9a",
   "metadata": {},
   "source": [
    "#### Evaluación de la relación entre variables"
   ]
  },
  {
   "cell_type": "code",
   "execution_count": null,
   "id": "9943e505",
   "metadata": {},
   "outputs": [],
   "source": [
    "#Evaluamos la correlacion entre las variables numericas\n",
    "data_CABA.loc[:,('price_aprox_usd','price_m2', 'rooms','surface')].corr()"
   ]
  },
  {
   "cell_type": "code",
   "execution_count": null,
   "id": "94c48691",
   "metadata": {},
   "outputs": [],
   "source": [
    "# Graficamos la relacion entre surface con price y price_m2\n",
    "sns.set_style(\"whitegrid\")\n",
    "sns.regplot(data=data_CABA[data_CABA.surface<=3000], y='price_aprox_usd', x ='surface')"
   ]
  },
  {
   "cell_type": "code",
   "execution_count": null,
   "id": "9232f6b3",
   "metadata": {},
   "outputs": [],
   "source": [
    "sns.set_style(\"whitegrid\")\n",
    "sns.regplot(data=data_CABA[data_CABA.surface<=3000], y='price_m2', x ='surface')"
   ]
  },
  {
   "cell_type": "code",
   "execution_count": null,
   "id": "87fd48cc",
   "metadata": {},
   "outputs": [],
   "source": [
    "# Grafico la relación entre superficie y precio, según el place_name (barrio)\n",
    "g = sns.lmplot(x='surface', y='price_aprox_usd', hue='place_name', col='place_name',data=data_CABA, aspect=.7, x_jitter=2, col_wrap=6, sharex= False, sharey=False)"
   ]
  },
  {
   "cell_type": "code",
   "execution_count": null,
   "id": "80ec74f8",
   "metadata": {},
   "outputs": [],
   "source": [
    "sns.set_style(\"whitegrid\")\n",
    "g = sns.lmplot(x='surface', y='price_m2', hue='place_name', col='place_name',data=data_CABA, aspect=.7, x_jitter=2, col_wrap=6, sharex= False, sharey=False)"
   ]
  },
  {
   "cell_type": "markdown",
   "id": "f3133c37",
   "metadata": {},
   "source": [
    "##### Conclusiones\n",
    ">##### 1) A mayor superficie aumenta el precio pero disminuye(con menor pendiente) el precio por m2\n",
    ">##### 2) A mayor superficie aumenta la cantidad de rooms y aumenta tanto el precio como el precio por m2"
   ]
  },
  {
   "cell_type": "markdown",
   "id": "b6186dbd",
   "metadata": {},
   "source": [
    "#### Evaluación de las variables dummies"
   ]
  },
  {
   "cell_type": "code",
   "execution_count": null,
   "id": "f3cf2704",
   "metadata": {},
   "outputs": [],
   "source": [
    "# Exploro los amenities con respecto al price y price_m2"
   ]
  },
  {
   "cell_type": "code",
   "execution_count": null,
   "id": "cd321979",
   "metadata": {},
   "outputs": [],
   "source": [
    "data_final=list()\n",
    "for amenitie in ['contrafrente', 'cochera', 'amenities', 'esp_exterior', 'mas_1banio','estrenar']:\n",
    "    result=dict()\n",
    "    amenitie_explorer= data_CABA.groupby(amenitie).price_aprox_usd.median()\n",
    "    result['amenitie']= amenitie\n",
    "    result['price_no']=amenitie_explorer[0]\n",
    "    result['price_si']=amenitie_explorer[1]\n",
    "    amenitie_explorer2= data_CABA.groupby(amenitie).price_m2.median()\n",
    "    result['price_m2_no']=amenitie_explorer2[0]\n",
    "    result['price_m2_si']=amenitie_explorer2[1]\n",
    "    data_final.append(result)\n",
    "amenities= pd.DataFrame(data_final)"
   ]
  },
  {
   "cell_type": "code",
   "execution_count": null,
   "id": "b83702fd",
   "metadata": {},
   "outputs": [],
   "source": [
    "amenities['diff_price']=amenities.price_si-amenities.price_no\n",
    "amenities['diff_price_m2']=amenities.price_m2_si-amenities.price_m2_no"
   ]
  },
  {
   "cell_type": "code",
   "execution_count": null,
   "id": "ad1e9670",
   "metadata": {},
   "outputs": [],
   "source": [
    "amenities"
   ]
  },
  {
   "cell_type": "code",
   "execution_count": null,
   "id": "6ae65b79",
   "metadata": {},
   "outputs": [],
   "source": [
    "sns.barplot(data=amenities, x='amenitie', y='diff_price')\n",
    "plt.xlabel('Amenities')\n",
    "plt.ylabel('Diferencia de precio(mediana)')\n",
    "plt.title('Relacion de Amenities con precio')"
   ]
  },
  {
   "cell_type": "code",
   "execution_count": null,
   "id": "eecde67b",
   "metadata": {},
   "outputs": [],
   "source": [
    "sns.barplot(data=amenities, x='amenitie', y='diff_price_m2')\n",
    "plt.xlabel('Amenities')\n",
    "plt.ylabel('Diferencia de precio(mediana) por m2')\n",
    "plt.title('Relacion de Amenities con precio por m2')"
   ]
  },
  {
   "cell_type": "markdown",
   "id": "a6d73cca",
   "metadata": {},
   "source": [
    "##### Conclusion\n",
    ">##### 1) El precio por metro cuadrado es mayor con la presencia de coheras, amenities y si es a estrenar\n",
    ">##### 2) El precio por metro cuadrado disminuye cuando hay mas de un baño o hay espacios exteriores, ambos items que hacen referencia a propiedades con mayor superficie, lo que coincide con la observación anterior sobre que el valor por m2 desciende a mayor superficie. Sin embargo esto no es asi sobre el precio final de la propiedad"
   ]
  },
  {
   "cell_type": "markdown",
   "id": "8e16a1b3",
   "metadata": {},
   "source": [
    "#### Evaluación de la variable rooms"
   ]
  },
  {
   "cell_type": "code",
   "execution_count": null,
   "id": "a95af0f1",
   "metadata": {},
   "outputs": [],
   "source": [
    "data_CABA.loc[:,['price_aprox_usd','price_m2','rooms']].corr()"
   ]
  },
  {
   "cell_type": "code",
   "execution_count": null,
   "id": "381aeaa3",
   "metadata": {},
   "outputs": [],
   "source": [
    "sns.regplot(data=data_CABA, x='rooms',y='price_aprox_usd')"
   ]
  },
  {
   "cell_type": "code",
   "execution_count": null,
   "id": "05a45674",
   "metadata": {},
   "outputs": [],
   "source": [
    "# Grafico rooms y price\n",
    "# sns.scatterplot(data=data_CABA, x='rooms',y='price_aprox_usd')"
   ]
  },
  {
   "cell_type": "code",
   "execution_count": null,
   "id": "c163b138",
   "metadata": {},
   "outputs": [],
   "source": [
    "# Grafico rooms y precio dividido por barrios\n",
    "g = sns.lmplot(x='rooms', y='price_aprox_usd', hue='place_name', col='place_name',data=data_CABA, aspect=.7, x_jitter=2, col_wrap=6, sharex= False, sharey=False)"
   ]
  },
  {
   "cell_type": "markdown",
   "id": "0d7ccefa",
   "metadata": {},
   "source": [
    "##### Si bien rooms es una variable numérica, se nota que no sigue una relación lineal con respecto al precio, por lo que se la toma como variable categórica.\n",
    "##### Se discretiza en cinco niveles"
   ]
  },
  {
   "cell_type": "code",
   "execution_count": null,
   "id": "1e8dcaa1",
   "metadata": {},
   "outputs": [],
   "source": [
    "data_CABA['rooms']=data_CABA.rooms.apply(lambda x: x if x<=4 else '5_mas')"
   ]
  },
  {
   "cell_type": "markdown",
   "id": "54f82ad0",
   "metadata": {},
   "source": [
    "#### Exploracion sobre barrios y precios por m2"
   ]
  },
  {
   "cell_type": "code",
   "execution_count": null,
   "id": "2ec85651",
   "metadata": {},
   "outputs": [],
   "source": [
    "data_CABA.place_name.unique()"
   ]
  },
  {
   "cell_type": "code",
   "execution_count": null,
   "id": "8fc102fc",
   "metadata": {},
   "outputs": [],
   "source": [
    "# Diccionario de comunas\n",
    "comunas={ 'Retiro':1,'San Nicolás':1,'Puerto Madero':1,'San Telmo':1,'Monserrat':1,'Constitución':1,'Centro / Microcentro':1, 'Tribunales':1,\n",
    " 'Recoleta':2,\n",
    "'Balvanera':3,'San Cristobal':3,'Abasto':3,'Once':3,'Congreso':3,\n",
    " 'Boca':4,'Barracas':4,'Parque Patricios':4,'Pompeya':4,\n",
    "'Almagro':5, 'Boedo':5,\n",
    "'Caballito':6,'Parque Centenario':6,\n",
    "'Flores':7, 'Parque Chacabuco':7,\n",
    " \n",
    " 'Villa Soldati':8, 'Villa Riachuelo':8, 'Villa Lugano':8,\n",
    "'Liniers':9, 'Mataderos':9,'Parque Avellaneda':9,\n",
    "'Villa Real':10, 'Monte Castro':10, 'Versalles':10, 'Floresta':10, 'Velez Sarsfield':10, 'Villa Luro':10,\n",
    " 'Villa General Mitre':11, 'Villa Devoto':11, 'Villa del Parque':11, 'Villa Santa Rita':11,\n",
    "'Coghlan':12, 'Saavedra':12, 'Villa Urquiza':12 ,'Villa Pueyrredón':12,\n",
    "'Nuñez':13, 'Belgrano':13, 'Colegiales':13,\n",
    "'Palermo':14,'Las Cañitas':14, 'Barrio Norte':14,\n",
    "'Chacarita':15, 'Villa Crespo':15, 'Paternal':15, 'Villa Ortuzar':15, 'Agronomía':15, 'Parque Chas':15}"
   ]
  },
  {
   "cell_type": "code",
   "execution_count": null,
   "id": "ea5b3278",
   "metadata": {},
   "outputs": [],
   "source": [
    "dataComunas=data_CABA.copy()"
   ]
  },
  {
   "cell_type": "code",
   "execution_count": null,
   "id": "73137089",
   "metadata": {},
   "outputs": [],
   "source": [
    "dataComunas['comuna']= dataComunas.place_name.apply(lambda x: comunas[x])"
   ]
  },
  {
   "cell_type": "code",
   "execution_count": null,
   "id": "71f259a6",
   "metadata": {},
   "outputs": [],
   "source": [
    "sns.set(rc = {'figure.figsize':(11,7)})\n",
    "sns.boxplot(data=dataComunas, x='comuna', y='price_m2')\n",
    "plt.xlabel('Comunas de CABA')\n",
    "plt.ylabel('Precio por m2')"
   ]
  },
  {
   "cell_type": "code",
   "execution_count": null,
   "id": "ae438967",
   "metadata": {},
   "outputs": [],
   "source": [
    "print('1.Retiro,San Nicolás,Puerto Madero, San Telmo,Monserrat,Constitución,Centro,Tribunales','\\n','2.Recoleta','\\n',\n",
    "'3.Balvanera,San Cristobal,Abasto,Once,Congreso','\\n', '4.Boca,Barracas,Parque Patricios,Pompeya','\\n',\n",
    "'5.Almagro,Boedo','\\n',\n",
    "'6.Caballito,Parque Centenario','\\n',\n",
    "'7.Flores,Parque Chacabuco', '8.Villa Soldati,Villa Riachuelo,Villa Lugano','\\n',\n",
    "'9.Liniers,Mataderos,Parque Avellaneda','\\n',\n",
    "'10.Villa Real,Monte Castro,Versalles,Floresta,Velez Sarsfield,Villa Luro','\\n',\n",
    " '11.Villa General Mitre,Villa Devoto,Villa del Parque,Villa Santa Rita','\\n',\n",
    "'12.Coghlan,Saavedra,Villa Urquiza,Villa Pueyrredón','\\n',\n",
    "'13.Nuñez,Belgrano,Colegiales','\\n',\n",
    "'14.Palermo,Las Cañitas,Barrio Norte','\\n',\n",
    "'15.Chacarita,Villa Crespo,Paternal,Villa Ortuzar,Agronomía,Parque Chas')\n"
   ]
  },
  {
   "cell_type": "code",
   "execution_count": null,
   "id": "45aa4896",
   "metadata": {},
   "outputs": [],
   "source": [
    "comunas_group=dataComunas.groupby('comuna').price_aprox_usd.median().sort_values()\n",
    "comunas_group.plot(kind='bar')"
   ]
  },
  {
   "cell_type": "markdown",
   "id": "944278d7",
   "metadata": {},
   "source": [
    "[Subir](#top)"
   ]
  },
  {
   "cell_type": "markdown",
   "id": "8f7a9bdb",
   "metadata": {},
   "source": [
    "---\n",
    "<a name=\"preparacion\"></a>\n",
    "## 2. Preparación de los datos para el entrenamiento"
   ]
  },
  {
   "cell_type": "markdown",
   "id": "eb117f8e",
   "metadata": {},
   "source": [
    "#### Definimos X e Y"
   ]
  },
  {
   "cell_type": "markdown",
   "id": "fca53c60",
   "metadata": {},
   "source": [
    "Se elige como variable target el precio final de la propiedad. \n",
    "Esto se realiza ya que el precio/m2 es independiente de la variable superficie, por lo que sólo se usarían variables dummy.\n",
    "EL precio tiene una correlacion lineal moderada con la superficie, mientras que el precio por metro cuadrado tiene una correlación negativa muy débil(por eso al quitar superficie como variable explicativa del precio por m2 no se modifica el r2).Al estimar el precio/m2, el R2 da en el orden de 0.62 (considerando superficie) y 0.60 (sacando superficie, sólo con dummy).\n",
    "Al estimar el precio final, el R2 da en el orden de 0.78 considerando superficie y variables dummy. Además se observa una relación lineal entre precio y superficie en cada barrio. Por lo tanto, se utilizará este precio predicho para calcular finalmente el precio/m2."
   ]
  },
  {
   "cell_type": "code",
   "execution_count": null,
   "id": "b17ec796",
   "metadata": {},
   "outputs": [],
   "source": [
    "X = data_CABA.drop(['price_aprox_usd', 'price_m2'], axis = 1)\n",
    "y = data_CABA.price_aprox_usd"
   ]
  },
  {
   "cell_type": "code",
   "execution_count": null,
   "id": "aa58049e",
   "metadata": {},
   "outputs": [],
   "source": [
    "X.head()"
   ]
  },
  {
   "cell_type": "markdown",
   "id": "983e525b",
   "metadata": {},
   "source": [
    "#### Dividimos en Train y Test"
   ]
  },
  {
   "cell_type": "code",
   "execution_count": null,
   "id": "851da4fe",
   "metadata": {},
   "outputs": [],
   "source": [
    "X_train, X_test, y_train, y_test = train_test_split(X, y, test_size = 0.2, random_state = 13)"
   ]
  },
  {
   "cell_type": "markdown",
   "id": "3a5f53cd",
   "metadata": {},
   "source": [
    "#### Obtenemos Dummies"
   ]
  },
  {
   "cell_type": "code",
   "execution_count": null,
   "id": "b184e691",
   "metadata": {},
   "outputs": [],
   "source": [
    "X_train_dummies = pd.get_dummies(X_train, drop_first=False).reset_index(drop = True)\n",
    "X_test_dummies = pd.get_dummies(X_test, drop_first=False).reset_index(drop = True)"
   ]
  },
  {
   "cell_type": "code",
   "execution_count": null,
   "id": "5a8913c4",
   "metadata": {},
   "outputs": [],
   "source": [
    "y_train = y_train.reset_index(drop = True)\n",
    "y_test = y_test.reset_index(drop = True)"
   ]
  },
  {
   "cell_type": "code",
   "execution_count": null,
   "id": "997e7379",
   "metadata": {},
   "outputs": [],
   "source": [
    "X_train_dummies.columns"
   ]
  },
  {
   "cell_type": "markdown",
   "id": "a005f10a",
   "metadata": {},
   "source": [
    "##### Se elige Almagro, departamento y 3 rooms como variables dummies por defecto ya que representan la mediana del dataset"
   ]
  },
  {
   "cell_type": "code",
   "execution_count": null,
   "id": "8fe66e72",
   "metadata": {},
   "outputs": [],
   "source": [
    "data_CABA.groupby(['place_name'])['price_aprox_usd'].median().sort_values(ascending=False)"
   ]
  },
  {
   "cell_type": "code",
   "execution_count": null,
   "id": "5d20ad06",
   "metadata": {},
   "outputs": [],
   "source": [
    "data_CABA.groupby(['place_name'])['price_aprox_usd'].median().sort_values(ascending=False).median()\n",
    "#data_CABA.groupby(['place_name'])['price_aprox_usd'].median().sort_values(ascending=False).hist(bins=30)"
   ]
  },
  {
   "cell_type": "code",
   "execution_count": null,
   "id": "4f6289fe",
   "metadata": {},
   "outputs": [],
   "source": [
    "data_CABA[data_CABA.place_name=='Almagro'].groupby(['property_type', 'rooms'])['property_type'].count()"
   ]
  },
  {
   "cell_type": "code",
   "execution_count": null,
   "id": "9cf59277",
   "metadata": {},
   "outputs": [],
   "source": [
    "#Saco las dummies\n",
    "X_train_dummies.drop(['property_type_apartment','place_name_Almagro', 'rooms_3.0'], axis=1, inplace=True)\n",
    "X_test_dummies.drop(['property_type_apartment','place_name_Almagro', 'rooms_3.0'], axis=1, inplace=True)"
   ]
  },
  {
   "cell_type": "markdown",
   "id": "4ec3f140",
   "metadata": {},
   "source": [
    "[Subir](#top)"
   ]
  },
  {
   "cell_type": "markdown",
   "id": "b37402a1",
   "metadata": {},
   "source": [
    "---\n",
    "<a name=\"rl\"></a>\n",
    "## 3. Regresion Lineal"
   ]
  },
  {
   "cell_type": "markdown",
   "id": "db295d96",
   "metadata": {},
   "source": [
    "<a name=\"rlA\"></a>\n",
    "### 3a. Regresión Lineal con Stats Model"
   ]
  },
  {
   "cell_type": "code",
   "execution_count": null,
   "id": "a0d2c886",
   "metadata": {},
   "outputs": [],
   "source": [
    "X_stats = sm.add_constant(X_train_dummies)\n",
    "\n",
    "model = sm.OLS(y_train, X_stats).fit()\n",
    "\n",
    "model.summary()"
   ]
  },
  {
   "cell_type": "markdown",
   "id": "c10f8fa6",
   "metadata": {},
   "source": [
    "#### Se descartan del análisis las variables con coeficientes no significativos"
   ]
  },
  {
   "cell_type": "code",
   "execution_count": null,
   "id": "f578c0a7",
   "metadata": {},
   "outputs": [],
   "source": [
    "mask = model.pvalues.loc[model.pvalues > 0.05]\n",
    "mask = pd.DataFrame(mask)\n",
    "mask.reset_index(inplace = True)\n",
    "mask.rename(columns = {'index': 'dummy', 0 : 'p-value'}, inplace = True)\n",
    "mask.set_index('dummy', inplace = True)\n",
    "mask = mask.T\n",
    "print(mask.columns)\n",
    "\n",
    "\n",
    "X_train_dummies_pvalue = X_train_dummies.drop(mask.columns, axis = 1)\n",
    "X_test_dummies_pvalue = X_test_dummies.drop(mask.columns, axis = 1)"
   ]
  },
  {
   "cell_type": "markdown",
   "id": "96c768c9",
   "metadata": {},
   "source": [
    "#### Nueva Regresión Lineal con Stats Model"
   ]
  },
  {
   "cell_type": "code",
   "execution_count": null,
   "id": "6653a7c2",
   "metadata": {},
   "outputs": [],
   "source": [
    "X_stats = sm.add_constant(X_train_dummies_pvalue)\n",
    "X_stats_test = sm.add_constant(X_test_dummies_pvalue)\n",
    "model = sm.OLS(y_train, X_stats).fit()\n",
    "\n",
    "model.summary()"
   ]
  },
  {
   "cell_type": "markdown",
   "id": "ba70f73f",
   "metadata": {},
   "source": [
    "##### Calculo del r2 y RMSE en OLS"
   ]
  },
  {
   "cell_type": "code",
   "execution_count": null,
   "id": "13ce5368",
   "metadata": {},
   "outputs": [],
   "source": [
    "#Calculando sobre el train\n",
    "OLS_predictions_train= model.predict(X_stats)\n",
    "\n",
    "OLS_r2_train=metrics.r2_score(y_train,OLS_predictions_train)\n",
    "OLS_RMSE_train=np.sqrt(metrics.mean_squared_error(y_train,OLS_predictions_train))\n",
    "print(f'el R2 para train es {OLS_r2_train} y el error RMSE es {OLS_RMSE_train}')"
   ]
  },
  {
   "cell_type": "code",
   "execution_count": null,
   "id": "2d3928f9",
   "metadata": {},
   "outputs": [],
   "source": [
    "#Calculando sobre el test\n",
    "OLS_predictions_test= model.predict(X_stats_test)\n",
    "\n",
    "OLS_r2_test=metrics.r2_score(y_test,OLS_predictions_test)\n",
    "OLS_RMSE_test=np.sqrt(metrics.mean_squared_error(y_test,OLS_predictions_test))\n",
    "print(f'el R2 para test es {OLS_r2_test} y el error RMSE es {OLS_RMSE_test}')"
   ]
  },
  {
   "cell_type": "code",
   "execution_count": null,
   "id": "4c54016e",
   "metadata": {},
   "outputs": [],
   "source": [
    "sns.scatterplot(x=y_test, y=OLS_predictions_test)"
   ]
  },
  {
   "cell_type": "markdown",
   "id": "a06872a7",
   "metadata": {},
   "source": [
    "[Subir](#top)"
   ]
  },
  {
   "cell_type": "markdown",
   "id": "9cbc37de",
   "metadata": {},
   "source": [
    "<a name=\"rlB\"></a>\n",
    "### 3b. Regresión Lineal con regularización Lasso"
   ]
  },
  {
   "cell_type": "markdown",
   "id": "6cd8c6a1",
   "metadata": {},
   "source": [
    "Decidimos entrenar Lasso con el X_train original sin sacar las dummies con p_value no significativo ya que pensamos que es la forma mas correcta para comparar al final los modelos entre si"
   ]
  },
  {
   "cell_type": "code",
   "execution_count": null,
   "id": "61e0439c",
   "metadata": {},
   "outputs": [],
   "source": [
    "# Estandarizo superficie TEST   ESTANDARIZAMOS Y ENTRENAMOS LASSO CON X_train original\n",
    "from sklearn.preprocessing import StandardScaler\n",
    "sc = StandardScaler()\n",
    "\n",
    "#Entreno el escaler y transformo\n",
    "x_train_sup_sc = sc.fit_transform(X_train_dummies['surface'].values.reshape(-1,1)) \n",
    "x_test_sup_sc =  sc.transform(X_test_dummies['surface'].values.reshape(-1,1)) \n",
    "\n",
    "# Lo convuierto a DF\n",
    "x_train_sup_sc = pd.DataFrame(x_train_sup_sc, columns = ['surface'])\n",
    "x_test_sup_sc = pd.DataFrame(x_test_sup_sc, columns = ['surface'])\n",
    "\n",
    "# Lo agrego al DF  en la columnas surface\n",
    "X_train_dummies['surface'] = x_train_sup_sc\n",
    "X_test_dummies['surface'] = x_test_sup_sc"
   ]
  },
  {
   "cell_type": "code",
   "execution_count": null,
   "id": "a3b67dda",
   "metadata": {},
   "outputs": [],
   "source": [
    "cv = KFold(5, shuffle=True)"
   ]
  },
  {
   "cell_type": "code",
   "execution_count": null,
   "id": "ac963f96",
   "metadata": {},
   "outputs": [],
   "source": [
    "# Entreno Lasso\n",
    "lassocv = linear_model.LassoCV(alphas=np.linspace(10, 20, 1000), cv=cv, normalize=False) \n",
    "lassocv.fit(X_train_dummies, y_train)\n",
    "\n",
    "print (\"\\nalpha:\", lassocv.alpha_)\n",
    "print (\"\\ncoeficientes:\", lassocv.coef_)\n",
    "print (\"\\nintercepto:\", lassocv.intercept_)\n",
    "print (\"\\nzero_coefs:\", (lassocv.coef_ == 0).sum())"
   ]
  },
  {
   "cell_type": "code",
   "execution_count": null,
   "id": "25e5bf9e",
   "metadata": {},
   "outputs": [],
   "source": [
    "lasso_prediction_train = lassocv.predict(X_train_dummies)\n",
    "lasso_r2_train=metrics.r2_score(y_train,lasso_prediction_train)\n",
    "lasso_RMSE_train=np.sqrt(metrics.mean_squared_error(y_train,lasso_prediction_train))\n",
    "print(f'el R2 para train es {lasso_r2_train} y el error RMSE es {lasso_RMSE_train}')\n",
    "\n",
    "\n",
    "lasso_prediction_test = lassocv.predict(X_test_dummies)\n",
    "lasso_r2_test=metrics.r2_score(y_test,lasso_prediction_test)\n",
    "lasso_RMSE_test=np.sqrt(metrics.mean_squared_error(y_test,lasso_prediction_test))\n",
    "print(f'el R2 para test es {lasso_r2_test} y el error RMSE es {lasso_RMSE_test}')"
   ]
  },
  {
   "cell_type": "code",
   "execution_count": null,
   "id": "90be5afc",
   "metadata": {},
   "outputs": [],
   "source": [
    "lasso_coef=pd.DataFrame([[v, c] for v,c in zip(X_train_dummies.columns, lassocv.coef_)], columns=['variable','coef'])"
   ]
  },
  {
   "cell_type": "code",
   "execution_count": null,
   "id": "b8d64569",
   "metadata": {},
   "outputs": [],
   "source": [
    "lasso_coef[lasso_coef.coef==0]"
   ]
  },
  {
   "cell_type": "markdown",
   "id": "13bdc6ca",
   "metadata": {},
   "source": [
    "[Subir](#top)"
   ]
  },
  {
   "cell_type": "markdown",
   "id": "fde47408",
   "metadata": {},
   "source": [
    "<a name=\"rlC\"></a>\n",
    "### 3c. Regresión Lineal con regularización Ridge"
   ]
  },
  {
   "cell_type": "code",
   "execution_count": null,
   "id": "cd124fb4",
   "metadata": {},
   "outputs": [],
   "source": [
    "#cv = KFold(5, shuffle=True) el CV ya está generado en Lasso y usaremos el mismo\n",
    "RidgeCV = linear_model.RidgeCV(alphas=np.linspace(1,5, 100), cv=cv, normalize=False) \n",
    "RidgeCV.fit(X_train_dummies, y_train)\n",
    "print (\"\\n alpha:\", RidgeCV.alpha_)\n",
    "print (\"\\n coeficientes:\", RidgeCV.coef_)\n",
    "print (\"\\n intercepto:\", RidgeCV.intercept_)"
   ]
  },
  {
   "cell_type": "code",
   "execution_count": null,
   "id": "07111180",
   "metadata": {},
   "outputs": [],
   "source": [
    "ridge_prediction_train = RidgeCV.predict(X_train_dummies)\n",
    "ridge_r2_train=metrics.r2_score(y_train,ridge_prediction_train)\n",
    "ridge_RMSE_train=np.sqrt(metrics.mean_squared_error(y_train,ridge_prediction_train))\n",
    "print(f'el R2 para train es {ridge_r2_train} y el error RMSE es {ridge_RMSE_train}')\n",
    "\n",
    "ridge_prediction_test = RidgeCV.predict(X_test_dummies)\n",
    "ridge_r2_test=metrics.r2_score(y_test,ridge_prediction_test)\n",
    "ridge_RMSE_test=np.sqrt(metrics.mean_squared_error(y_test,ridge_prediction_test))\n",
    "print(f'el R2 para test es {ridge_r2_test} y el error RMSE es {ridge_RMSE_test}')"
   ]
  },
  {
   "cell_type": "code",
   "execution_count": null,
   "id": "60f1d5a9",
   "metadata": {},
   "outputs": [],
   "source": [
    "metrics.mean_absolute_error(y_test,ridge_prediction_test)"
   ]
  },
  {
   "cell_type": "markdown",
   "id": "a4b03837",
   "metadata": {},
   "source": [
    "[Subir](#top)"
   ]
  },
  {
   "cell_type": "markdown",
   "id": "22616ef0",
   "metadata": {},
   "source": [
    "<a name=\"rlD\"></a>\n",
    "### 3d. Regresion Lineal con Elastic Net"
   ]
  },
  {
   "cell_type": "code",
   "execution_count": null,
   "id": "153794b8",
   "metadata": {},
   "outputs": [],
   "source": [
    "# Se prueba también el modelo Elastic Net y se puede observar que el alpha es prácticamente cero.\n",
    "\n",
    "elastic_net = linear_model.ElasticNetCV(alphas=np.linspace(0.0001,0.001, 10), normalize=False)\n",
    "elastic_net.fit(X_train_dummies_pvalue, y_train)\n",
    "predictions = elastic_net.predict(X_train_dummies_pvalue)\n",
    "\n",
    "print (\"\\n alpha:\", elastic_net.alpha_)\n",
    "print (\"\\n r^2:\", elastic_net.score(X_train_dummies_pvalue, y_train))\n",
    "print (\"\\n coeficientes:\", elastic_net.coef_)\n",
    "print (\"\\n intercepto:\", elastic_net.intercept_)"
   ]
  },
  {
   "cell_type": "markdown",
   "id": "3c1cac00",
   "metadata": {},
   "source": [
    "[Subir](#top)"
   ]
  },
  {
   "cell_type": "markdown",
   "id": "ba8ab904",
   "metadata": {},
   "source": [
    "<a name=\"rlF\"></a>\n",
    "### 3f. Comparación de los resultados entre los distintos modelos"
   ]
  },
  {
   "cell_type": "code",
   "execution_count": null,
   "id": "c1318d3d",
   "metadata": {},
   "outputs": [],
   "source": [
    "filas=['R2_train','RMSE_train','R2_test','RMSE_test']\n",
    "result={'OLS':[OLS_r2_train,OLS_RMSE_train,OLS_r2_test,OLS_RMSE_test],'LassoCV':[lasso_r2_train,lasso_RMSE_train,lasso_r2_test,lasso_RMSE_test],\n",
    "        'RidgeCV':[ridge_r2_train,ridge_RMSE_train,ridge_r2_test,ridge_RMSE_test]}\n",
    "result=pd.DataFrame(data=result,index=filas)\n",
    "result"
   ]
  },
  {
   "cell_type": "markdown",
   "id": "6cb7a7c3",
   "metadata": {},
   "source": [
    "#### *Viendo los resultados, y que el valor de R2 no varía prácticamente, se elige OLS por ser el modelo con menos variables (41 variables en total).*"
   ]
  },
  {
   "cell_type": "markdown",
   "id": "7c88dc44",
   "metadata": {},
   "source": [
    "[Subir](#top)"
   ]
  },
  {
   "cell_type": "markdown",
   "id": "c8a25308",
   "metadata": {},
   "source": [
    "---\n",
    "<a name=\"portafolio\"></a>\n",
    "## 4. Calculo de portafolio y rentabilidad"
   ]
  },
  {
   "cell_type": "markdown",
   "id": "fa7de3c0",
   "metadata": {},
   "source": [
    "<a name=\"portafolioA\"></a>\n",
    "### 4a. Calculo de portafolio"
   ]
  },
  {
   "cell_type": "markdown",
   "id": "5eff4300",
   "metadata": {},
   "source": [
    "#### Muestreo de 100 filas"
   ]
  },
  {
   "cell_type": "code",
   "execution_count": null,
   "id": "4c8b625e",
   "metadata": {},
   "outputs": [],
   "source": [
    "data_CABA = pd.read_csv('dataCABA.csv', sep=\",\", index_col=0) # importo el dataset\n",
    "data_CABA['rooms']=data_CABA.rooms.apply(lambda x: x if x<=4 else '5_mas') #categorizo rooms\n",
    "data_CABA_sample = data_CABA.sample(100, random_state=55)\n",
    "Presupuesto1 = data_CABA_sample[\"price_aprox_usd\"].sum()\n",
    "Presupuesto1"
   ]
  },
  {
   "cell_type": "code",
   "execution_count": null,
   "id": "b41dabc9",
   "metadata": {},
   "outputs": [],
   "source": [
    "# divido en X e y\n",
    "X = data_CABA.drop(['price_aprox_usd', 'price_m2'], axis = 1) \n",
    "y = data_CABA.price_aprox_usd \n",
    "\n",
    "# Genero las variables dummies para todo el dataset X\n",
    "X_dummies = pd.get_dummies(X, drop_first=False)\n",
    "\n",
    "# Elimino una columna por cada categoria de dummie\n",
    "X_dummies.drop(['property_type_apartment','place_name_Almagro', 'rooms_3.0'], axis=1, inplace=True)\n",
    "\n",
    "# Dejo sólo las dummies que fueron usadas en el modelo\n",
    "X_dummies_pvalue = X_dummies.drop(mask.columns, axis = 1)"
   ]
  },
  {
   "cell_type": "code",
   "execution_count": null,
   "id": "d5a92cb4",
   "metadata": {},
   "outputs": [],
   "source": [
    "# Aplico el modelo para predecir los precios de las propiedades del sample\n",
    "X_dummies_OLS_all = sm.add_constant(X_dummies_pvalue)\n",
    "y_pred_all = model.predict(X_dummies_OLS_all)"
   ]
  },
  {
   "cell_type": "code",
   "execution_count": null,
   "id": "f43b47af",
   "metadata": {},
   "outputs": [],
   "source": [
    "# Calculo el R2 de la predicción\n",
    "\n",
    "R2_sample =metrics.r2_score(y,y_pred_all)\n",
    "RMSE_sample=np.sqrt(metrics.mean_squared_error(y,y_pred_all))\n",
    "MAE_sample= metrics.mean_absolute_error(y,y_pred_all)\n",
    "print(f'el R2 es {R2_sample} , el RMSE es {RMSE_sample}, el MAE es {MAE_sample}')"
   ]
  },
  {
   "cell_type": "code",
   "execution_count": null,
   "id": "0b79c92c",
   "metadata": {},
   "outputs": [],
   "source": [
    "# Genero las columnas de precio y precio por metro cuadrado predicho\n",
    "\n",
    "data_CABA['price_pred'] = np.around(y_pred_all, 2)\n",
    "data_CABA['price_m2_pred'] = np.around(y_pred_all/data_CABA['surface'], 2)"
   ]
  },
  {
   "cell_type": "code",
   "execution_count": null,
   "id": "f51c757e",
   "metadata": {},
   "outputs": [],
   "source": [
    "# Genero la columna de diferencia (en fracción) en precio de mercado y precio predicho\n",
    "\n",
    "data_CABA['fracc_dif'] = 1 - (data_CABA['price_pred'] / data_CABA['price_aprox_usd']) "
   ]
  },
  {
   "cell_type": "code",
   "execution_count": null,
   "id": "7b77b9c6",
   "metadata": {},
   "outputs": [],
   "source": [
    "data_CABA['dif_clasify'] = data_CABA.fracc_dif.apply(lambda x: 'incierto' if abs(x)< 0.05 else ('sobrevaluado' if x>0 else 'subvaluado'))"
   ]
  },
  {
   "cell_type": "code",
   "execution_count": null,
   "id": "74540569",
   "metadata": {},
   "outputs": [],
   "source": [
    "data_CABA.sample(10)"
   ]
  },
  {
   "cell_type": "code",
   "execution_count": null,
   "id": "9d780873",
   "metadata": {},
   "outputs": [],
   "source": [
    "# Estos son los valores mínimos y máximos de las diferencias en porcentaje. Se observa que las diferencias son muy grandes, por lo que se filtran las propiedades en el paso siguiente.\n",
    "\n",
    "data_CABA.fracc_dif.min()*100, data_CABA.fracc_dif.max()*100"
   ]
  },
  {
   "cell_type": "code",
   "execution_count": null,
   "id": "3eb36d29",
   "metadata": {},
   "outputs": [],
   "source": [
    "# Filtro el dataset tomando sólo las propiedades que varían en mas/menos un 30% ya que sino hay variaciones muy grandes. Se pueden atribuir a problemas de representabilidad de algún grupo, errores de carga o de imputación.\n",
    "# Sumo los valores de mercado de las propiedades hasta alcanzar el budget 24.5MMUSD. Luego sumo el valor de tasación del modelo para obtener la posible ganancia.\n",
    "\n",
    "data_sort_filtered = data_CABA[(data_CABA.fracc_dif > -0.3) & (data_CABA.fracc_dif < 0.3)].sort_values(by='fracc_dif')\n",
    "data_sort_filtered.price_aprox_usd.head(125).sum(), np.around(data_sort_filtered.price_pred.head(125).sum(), 2)"
   ]
  },
  {
   "cell_type": "code",
   "execution_count": null,
   "id": "a6a25925",
   "metadata": {},
   "outputs": [],
   "source": [
    "import plotly.express as px\n",
    "import plotly.offline as pyo\n",
    "\n",
    "fig = px.pie(data_sort_filtered, values='price_aprox_usd', names='dif_clasify', color='dif_clasify',\n",
    "             color_discrete_map={'sobrevaluado':'royalblue',\n",
    "                                 'subvaluado':'darkblue',\n",
    "                                'incierto': 'cyan'}, labels='dif_clasify', title='Proporción de Subvaluados, Sobrevaluados e Inciertos')\n",
    "fig.show()\n",
    "\n",
    "# Set notebook mode to work in offline\n",
    "pyo.init_notebook_mode()"
   ]
  },
  {
   "cell_type": "markdown",
   "id": "039c0d13",
   "metadata": {},
   "source": [
    "#### *Conclusión: Hay 10mil valores en los que la diferencia es de más del 30% por lo que probablemente sea un error del modelo o porque ese grupo está poco representado, por lo que se toman sólo las propiedades que cuya diferencia con el valor de tasación se encuentra en un rango de mas/menos 30%*"
   ]
  },
  {
   "cell_type": "markdown",
   "id": "e4a0d67f",
   "metadata": {},
   "source": [
    "[Subir](#top)"
   ]
  },
  {
   "cell_type": "markdown",
   "id": "35637be8",
   "metadata": {},
   "source": [
    "<a name=\"portafolioB\"></a>\n",
    "### 4b. Calculo de rentabilidad"
   ]
  },
  {
   "cell_type": "code",
   "execution_count": null,
   "id": "2c21ea8d",
   "metadata": {},
   "outputs": [],
   "source": [
    "data_sort_filtered.head(125)"
   ]
  },
  {
   "cell_type": "code",
   "execution_count": null,
   "id": "dedd0642",
   "metadata": {},
   "outputs": [],
   "source": [
    "data_CABA.shape, data_sort_filtered.shape"
   ]
  },
  {
   "cell_type": "code",
   "execution_count": null,
   "id": "d3537d92",
   "metadata": {},
   "outputs": [],
   "source": [
    "diferencia_abs = - data_sort_filtered.price_aprox_usd.head(124).sum() + np.around(data_sort_filtered.price_pred.head(124).sum(), 2)\n",
    "renta = np.round(diferencia_abs * 100 / data_sort_filtered.price_aprox_usd.head(124).sum(),2)\n",
    "\n",
    "print(f'Del portafolio elegido se obtiene una rentabilidad de: {renta}%')"
   ]
  },
  {
   "cell_type": "markdown",
   "id": "b24541fd",
   "metadata": {},
   "source": [
    "[Subir](#top)"
   ]
  }
 ],
 "metadata": {
  "kernelspec": {
   "display_name": "Python [conda env:dhdsblend2021] *",
   "language": "python",
   "name": "conda-env-dhdsblend2021-py"
  },
  "language_info": {
   "codemirror_mode": {
    "name": "ipython",
    "version": 3
   },
   "file_extension": ".py",
   "mimetype": "text/x-python",
   "name": "python",
   "nbconvert_exporter": "python",
   "pygments_lexer": "ipython3",
   "version": "3.8.10"
  }
 },
 "nbformat": 4,
 "nbformat_minor": 5
}
